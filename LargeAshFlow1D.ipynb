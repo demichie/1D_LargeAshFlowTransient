{
  "cells": [
    {
      "cell_type": "markdown",
      "metadata": {
        "id": "view-in-github",
        "colab_type": "text"
      },
      "source": [
        "<a href=\"https://colab.research.google.com/github/demichie/1D_LargeAshFlowTransient/blob/main/LargeAshFlow1D.ipynb\" target=\"_parent\"><img src=\"https://colab.research.google.com/assets/colab-badge.svg\" alt=\"Open In Colab\"/></a>"
      ]
    },
    {
      "cell_type": "markdown",
      "id": "a91be097",
      "metadata": {
        "id": "a91be097"
      },
      "source": [
        "We consider here the 1D shallow water equations for a gas-solid mixture with $B=0$.\n",
        "\n",
        "With respect to the last notebook, we want to add the terms accounting for loss of solid particles associated with sedimentation from the bottom:\n",
        "\n",
        "$$\n",
        "\\left\\{\n",
        "\\begin{array}{l}\n",
        "\\displaystyle \\frac{\\partial }{\\partial t}(\\rho h) + \\frac{\\partial }{\\partial x} (\\rho h u) = - S + E \\\\\n",
        "\\\\\n",
        "\\displaystyle\\frac{\\partial }{\\partial t}(\\rho u h) + \\frac{\\partial }{\\partial x} \\left(\\rho h u^2 + \\rho g' \\frac{h^2}{2} \\right) + \\rho g' h\\frac{\\partial B}{\\partial x} = - S u +F \\\\\n",
        "\\\\\n",
        "\\displaystyle\\frac{\\partial }{\\partial t}(\\rho h C_v T) + \\frac{\\partial }{\\partial x} (\\rho h u C_v T) = - S C_{v,s} T + E C_{v,atm} T_{atm} \\\\\n",
        "\\\\\n",
        "\\displaystyle\\frac{\\partial }{\\partial t}(\\rho h x_s) + \\frac{\\partial }{\\partial x} (\\rho h u x_s) = - S\n",
        "\\end{array}\n",
        "\\right.\n",
        "$$\n",
        "\n",
        "where $S$ is the particle (mass) sedimentation rate, $E$ is the air (mass) entrainment rate, and $F$ is the friction term.\n",
        "\n",
        "**N.B.** Please note that we are using the reduced gravity:\n",
        "\n",
        "$$\n",
        "g' = \\frac{\\rho-\\rho_{atm}}{\\rho}g\n",
        "$$\n",
        "\n"
      ]
    },
    {
      "cell_type": "markdown",
      "id": "3b52ea7a",
      "metadata": {
        "id": "3b52ea7a"
      },
      "source": [
        "\n",
        "If we write a model solving the system of equations above, at each time step we will update the values of the conservative variables $q_i$. In general, we are more interested in the flow thickness $h$, the flow velocity $u$, the solid mass fraction $x_s$ and the mixture temperature $T$.\n",
        "\n",
        "We can introduce a second set of variables, which we will call *physical variables*, defined as\n",
        "\n",
        "$$\n",
        "q_p = (q_{p,0},q_{p,1},q_{p,2},q_{p,3})=(h,u,T,x_s)\n",
        "$$\n",
        "\n",
        "and a function computing the physical variables from the conservative variables.\n",
        "\n",
        "We observe that for the solid mass fraction $x_s$ we have\n",
        "\n",
        "$$\n",
        "x_s=q_{p,4}=\\frac{q_4}{q_1}\n",
        "$$\n",
        "\n",
        "Once we know the solid mass fraction, we can compute the average specific heay of the mixture as\n",
        "\n",
        "$$\n",
        "C_v = x_s C_{v,s} + ( 1 - x_s ) C_{v,g}\n",
        "$$\n",
        "\n",
        "where $C_{v,s}$ is the specific heat of the solid phase and $C_{v,g}$ is the specific heat of the gas phase.\n",
        "\n",
        "**N.B.** The specific heat is a quantity defined per unit of mass. For this reason we computed the mixture value as a weighted average of the values of the phases, with the weights given by the mass fractions.\n",
        "\n",
        "Now, we can compute the mixture temperature $T$ (by also assuming that the gas and the solid phases have the same temperature):\n",
        "\n",
        "$$\n",
        "T = q_{p,3} = \\frac{q_3}{q_1 C_v}\n",
        "$$\n",
        "\n",
        "It is important now to remember that we are not modeling a liquid, with a constant density, but a mixture of two phases, where one is gas.\n",
        "\n",
        "The mixture density is given by\n",
        "\n",
        "$$\n",
        "\\frac{1}{\\rho} = \\frac{x_s}{\\rho_s} + \\frac{1-x_s}{\\rho_g}\n",
        "$$\n",
        "\n",
        "where $\\rho_s$ is the solid density and the density of the gas $\\rho_g$ is computed with the equation of state:\n",
        "\n",
        "$$\n",
        "\\rho_g = \\frac{P}{R_g T}\n",
        "$$\n",
        "\n",
        "where $P$ is the pressure (here assumed constant and equal to the atmospheric value) and $R_g$ is the specific gas constant (units: J K-1 kg-1 ). Please note that the specific gas constant is defined per unit of mass, thus when we have a mixture of gases we use the mass fractions to compute the averaged value.\n",
        "\n",
        "Once we compute $\\rho$, we obtain the flow thickness as\n",
        "\n",
        "$$\n",
        "h = \\frac{q_0}{\\rho}\n",
        "$$\n",
        "\n",
        "We add also the reduced gravity as output of this function:\n",
        "\n",
        "$$\n",
        "g' = \\frac{\\rho-\\rho_{atm}}{\\rho}g\n",
        "$$"
      ]
    },
    {
      "cell_type": "code",
      "execution_count": null,
      "id": "be71cea4",
      "metadata": {
        "id": "be71cea4"
      },
      "outputs": [],
      "source": [
        "def eval_phys(q):\n",
        "\n",
        "    global Cv_s, Cv_g, Rg, T_atm, P_atm, rhos, rho_atm , g\n",
        "\n",
        "    qp = np.zeros_like(q)\n",
        "\n",
        "    if q[0] > 0:\n",
        "\n",
        "        u = q[1]/q[0]\n",
        "\n",
        "        xs = q[3]/q[0]\n",
        "\n",
        "        Cv = xs*Cv_s + ( 1.0-xs )*Cv_g\n",
        "\n",
        "        T = q[2] / ( Cv*q[0])\n",
        "\n",
        "        rhog = P_atm / ( Rg * T )\n",
        "\n",
        "        rho = 1.0 / ( xs/rhos + (1.0-xs)/rhog )\n",
        "\n",
        "        h = q[0]/rho\n",
        "\n",
        "    else:\n",
        "\n",
        "        h = 0.0\n",
        "        u = 0.0\n",
        "        xs = 0.0\n",
        "        Cv = Cv_g\n",
        "        T = T_atm\n",
        "        rhog = rho_atm\n",
        "        rho = rhog\n",
        "\n",
        "    qp[0] = h\n",
        "    qp[1] = u\n",
        "    qp[2] = T\n",
        "    qp[3] = xs\n",
        "\n",
        "    g_prime = ( rho - rho_atm) / rho * g\n",
        "\n",
        "    return qp,rho,Cv,g_prime"
      ]
    },
    {
      "cell_type": "markdown",
      "id": "6e7055e2",
      "metadata": {
        "id": "6e7055e2"
      },
      "source": [
        "**N.B.** Please note that we added also $\\rho$ and $C_v$ as output of the function, because these variables are needed to compute the fluxes."
      ]
    },
    {
      "cell_type": "markdown",
      "id": "c374e485",
      "metadata": {
        "id": "c374e485"
      },
      "source": [
        "In a similar way, we define a function computing the conservative variables from the physical variables.\n",
        "\n",
        "This function can be useful when defining the initial conditions, because most of the time they are given in terms of the physical variables."
      ]
    },
    {
      "cell_type": "code",
      "execution_count": null,
      "id": "f1a75ba7",
      "metadata": {
        "id": "f1a75ba7"
      },
      "outputs": [],
      "source": [
        "def eval_cons(qp):\n",
        "\n",
        "    global Cv_s, Cv_g, Rg, rhos\n",
        "\n",
        "    q = np.zeros_like(qp)\n",
        "\n",
        "    xs = qp[3]\n",
        "    Cv = xs*Cv_s + ( 1.0-xs )*Cv_g\n",
        "\n",
        "    T = qp[2]\n",
        "    rhog = P_atm / ( Rg * T )\n",
        "    rho = 1.0 / ( xs/rhos + (1.0-xs)/rhog )\n",
        "\n",
        "\n",
        "    q[0] = rho*qp[0]\n",
        "    q[1] = rho*qp[0]*qp[1]\n",
        "    q[2] = rho*qp[0]*Cv*qp[2]\n",
        "    q[3] = rho*qp[0]*qp[3]\n",
        "\n",
        "    return q\n"
      ]
    },
    {
      "cell_type": "markdown",
      "id": "709bf907",
      "metadata": {
        "id": "709bf907"
      },
      "source": [
        "We can write the system of shallow water equations in the form\n",
        "$$\n",
        "Q_t+F(Q)_x+\\tilde{B}=\\tilde{S}+\\tilde{E}+\\tilde{F}\n",
        "$$\n",
        "\n",
        "if we define:\n",
        "\n",
        "$$\n",
        "Q=\\left(\n",
        "\\begin{array}{c}\n",
        "\\rho h\\\\\n",
        "\\rho hu\\\\\n",
        "\\rho h C_v T\\\\\n",
        "\\rho h x_s\n",
        "\\end{array}\n",
        "\\right) \\quad\n",
        "F=\\left(\n",
        "\\begin{array}{c}\n",
        "\\rho hu\\\\\n",
        "\\rho hu^2 + \\frac{1}{2}\\rho g'h^2\\\\\n",
        "\\rho hu C_v T\\\\\n",
        "\\rho hu x_s\n",
        "\\end{array}\n",
        "\\right)\n",
        "\\quad\n",
        "\\tilde{B}=\\left(\n",
        "\\begin{array}{c}\n",
        "0\\\\\n",
        "\\rho g'h\\frac{\\partial B}{\\partial x}\\\\\n",
        "0\\\\\n",
        "0\n",
        "\\end{array}\n",
        "\\right)\n",
        "$$\n",
        "\n",
        "\n",
        "$$\n",
        "\\tilde{S}=\\left(\n",
        "\\begin{array}{c}\n",
        "-S\\\\\n",
        "-Su\\\\\n",
        "-S C_{v,s} T\\\\\n",
        "-S\n",
        "\\end{array}\n",
        "\\right)\n",
        "\\quad\n",
        "\\tilde{E}=\\left(\n",
        "\\begin{array}{c}\n",
        "E\\\\\n",
        "0\\\\\n",
        "E C_{v,atm} T_{atm}\\\\\n",
        "0\n",
        "\\end{array}\n",
        "\\right)\n",
        "\\quad\n",
        "\\tilde{F}=\\left(\n",
        "\\begin{array}{c}\n",
        "0\\\\\n",
        "F\\\\\n",
        "0\\\\\n",
        "0\n",
        "\\end{array}\n",
        "\\right)\n",
        "$$\n",
        "\n",
        "\n",
        "Thus, the fluxes are defined as a function of the physical variables, and we can use this form to define the flux function."
      ]
    },
    {
      "cell_type": "code",
      "execution_count": null,
      "id": "c223a79e",
      "metadata": {
        "id": "c223a79e"
      },
      "outputs": [],
      "source": [
        "def eval_flux(q):\n",
        "\n",
        "    import numpy as np\n",
        "\n",
        "    global g\n",
        "\n",
        "    qp,rho,Cv,g_prime = eval_phys(q)\n",
        "\n",
        "    h = qp[0]\n",
        "    u = qp[1]\n",
        "    T = qp[2]\n",
        "    xs = qp[3]\n",
        "\n",
        "    flux = np.zeros_like(q)\n",
        "    flux[0] = rho*h*u\n",
        "    flux[1] = rho*h*u**2 + 0.5*rho*g_prime*h**2\n",
        "    flux[2] = rho*h*u*Cv*T\n",
        "    flux[3] = rho*h*u*xs\n",
        "\n",
        "    return flux\n"
      ]
    },
    {
      "cell_type": "markdown",
      "id": "4f6ddb14",
      "metadata": {
        "id": "4f6ddb14"
      },
      "source": [
        "When considering a flow on a slope, we have to remember that there is a term associated with the gradient of the topography. In fact, the hydrostatic term we initially derived from the integration of the pressure gradient term was proportional to the gradient of the free surface $B+h$. Part of this gradient (the gradient of $h$) is in the flux term of the momentum ($h\\frac{\\partial h}{\\partial x}=\\frac{1}{2}\\frac{\\partial h^2}{\\partial x}$), the remaining part is given by the term:\n",
        "\n",
        "$$\n",
        "\\rho g' h\\frac{\\partial B}{\\partial x}\n",
        "$$\n",
        "\n",
        "This slope term contributes also to the total energy, but here we are solving for the thermal energy only, which is not affected by the slope gradient.\n",
        "Thus, the contribution of the slope to the four conservation equations is given by\n",
        "\n",
        "$$\n",
        "\\tilde{B}=\\left(\n",
        "\\begin{array}{c}\n",
        "0\\\\\n",
        "\\rho g'h\\frac{\\partial B}{\\partial x}\\\\\n",
        "0\\\\\n",
        "0\n",
        "\\end{array}\n",
        "\\right)\n",
        "$$\n",
        "\n",
        "The gradient of $B$ is given by the tangent of the slope (expressed in radians). Here we define the slope in degrees, so we have to convert it in radians first."
      ]
    },
    {
      "cell_type": "code",
      "execution_count": null,
      "id": "9fd44d07",
      "metadata": {
        "id": "9fd44d07"
      },
      "outputs": [],
      "source": [
        "def eval_slope_term(q):\n",
        "\n",
        "    import numpy as np\n",
        "\n",
        "    global friction_coeff, slope\n",
        "\n",
        "    qp,rho,Cv,g_prime = eval_phys(q)\n",
        "\n",
        "    h = qp[0]\n",
        "    u = qp[1]\n",
        "    T = qp[2]\n",
        "    xs = qp[3]\n",
        "\n",
        "\n",
        "    n_vars = q.shape[0]\n",
        "\n",
        "    slope_term = np.zeros_like(q)\n",
        "\n",
        "    slope_term[0] = 0.0\n",
        "    slope_term[1] = rho*g_prime*h*np.tan(slope/180.0*np.pi)\n",
        "    slope_term[2] = 0.0\n",
        "    slope_term[3] = 0.0\n",
        "\n",
        "    return slope_term"
      ]
    },
    {
      "cell_type": "markdown",
      "id": "db0c3ce6",
      "metadata": {
        "id": "db0c3ce6"
      },
      "source": [
        "The characteristic speeds of a non-linear system of equations are computed from the Jacobian of the fluxes, where the partial derivatives of the Jacobian are the derivatives with respect to the conservative variables.\n",
        "\n",
        "In terms of the conservative variables, the flux is\n",
        "\n",
        "$$\n",
        "f=\\left(\n",
        "\\begin{array}{c}\n",
        "\\rho hu\\\\\n",
        "\\rho hu^2 + \\frac{1}{2}\\rho(T,x_s) g'h^2\\\\\n",
        "\\rho hu C_v T\\\\\n",
        "\\rho hu x_s\n",
        "\\end{array}\n",
        "\\right) =\\left(\n",
        "\\begin{array}{c}\n",
        "q_1\\\\\n",
        "q_1^2/q_0 + \\frac{1}{2}\\frac{g'}{\\rho(T,x_s)}q_0^2\\\\\n",
        "q_2 \\frac{q_1}{q_0} \\\\\n",
        "q_3 \\frac{q_1}{q_0}\n",
        "\\end{array}\n",
        "\\right)\n",
        "$$\n",
        "Thus the flux Jacobian is\n",
        "$$\n",
        "J=f'(x) = \\left(\n",
        "\\begin{array}{cccc}\n",
        "0 & 1 & 0 & 0\\\\\n",
        "-(q_1/q_0)^2+ \\frac{g'}{\\rho} q_0 -\\frac{g' q_0^2}{\\rho^2}\\frac{\\partial \\rho}{\\partial q_0}& 2q_1/q_0  -\\frac{g' q_0^2}{\\rho^2}\\frac{\\partial \\rho}{\\partial q_1} & -\\frac{g' q_0^2}{\\rho^2}\\frac{\\partial \\rho}{\\partial q_2} & -\\frac{g' q_0^2}{\\rho^2}\\frac{\\partial \\rho}{\\partial q_3} \\\\\n",
        "-q_1 q_2 / q_0^2 & q_2/q_0 & q_1/q_0 & 0 \\\\\n",
        "-q_1 q_3 / q_0^2 & q_3/q_0  & 0 & q_1/q_0\n",
        "\\end{array}\n",
        "\\right)\n",
        "$$\n",
        "\n",
        "\n",
        "\n",
        "which, in terms of the physical variables, is:\n",
        "$$\n",
        "J=f'(x) = \\left(\n",
        "\\begin{array}{cccc}\n",
        "0 &1 & 0 & 0 \\\\\n",
        "- u^2+ g'h& 2u & -g h^2\\frac{\\partial \\rho}{\\partial q_2} & -g' h^2\\frac{\\partial \\rho}{\\partial q_3} \\\\\n",
        "-C_v T u^2 & C_v T & u & 0 \\\\\n",
        "-x_s u^2 & x_s & 0 & u\n",
        "\\end{array}\n",
        "\\right)$$\n",
        "\n",
        "It is important to observe that the determinant of the Jacobian, and thus the characteristic polynomial, does not depend on the elements $J(2,2)$ and $J(2,3)$ (where we used the Python indexing). Thus, we can set these values to zero in the Jacobian.\n",
        "\n",
        "For this reason, the eigenvalues are the same of those found for the original shallow water equations. This is expected, because we added two trasport equations for two variables advected with the flow velocity $u$.\n"
      ]
    },
    {
      "cell_type": "code",
      "execution_count": null,
      "id": "7cbf2073",
      "metadata": {
        "id": "7cbf2073"
      },
      "outputs": [],
      "source": [
        "def eval_jacobian(q):\n",
        "\n",
        "    global rho\n",
        "\n",
        "    import numpy as np\n",
        "\n",
        "    n_vars = q.shape[0]\n",
        "    A = np.zeros((n_vars,n_vars))\n",
        "\n",
        "    qp,rho,Cv,g_prime = eval_phys(q)\n",
        "\n",
        "    h = qp[0]\n",
        "    u = qp[1]\n",
        "    T = qp[2]\n",
        "    xs = qp[3]\n",
        "\n",
        "    # a(i,j) is the derivative of the flux i with respect to the variable j\n",
        "    A[0,0] = 0.0\n",
        "    A[0,1] = 1.0\n",
        "    A[0,2] = 0.0\n",
        "    A[0,3] = 0.0\n",
        "\n",
        "    A[1,0] = -u**2+g_prime*h\n",
        "    A[1,1] = 2.0*u\n",
        "    A[1,2] = 0.0\n",
        "    A[1,3] = 0.0\n",
        "\n",
        "    A[2,0] = -Cv*T*u**2\n",
        "    A[2,1] = Cv*T\n",
        "    A[2,2] = u\n",
        "    A[2,3] = 0.0\n",
        "\n",
        "    A[3,0] = -xs*u**2\n",
        "    A[3,1] = xs*T\n",
        "    A[3,2] = 0.0\n",
        "    A[3,3] = u\n",
        "\n",
        "    return A\n"
      ]
    },
    {
      "cell_type": "markdown",
      "id": "1899e1ad",
      "metadata": {
        "id": "1899e1ad"
      },
      "source": [
        "We need now to add a function computing the term for the loss of particles, which is proportional to the particle setting velocity $v_s$.\n",
        "\n",
        "The settling velocity is computed accordingly with Eq. 11 from Bursik and Woods, 1996:\n",
        "\n",
        "$$\n",
        "v_s(d) = \\left(\\frac{\\rho_s g d}{C_D \\rho}\\right)^{1/2}\n",
        "$$\n",
        "\n",
        "where $d$ is the size of the particle and $C_D$ is the drag coefficient. In general, the drag coefficient is a function of the relative velocity, through the Reynolds number. Here, as in Bursik and Woods, 1996, we fix $C_D=1$.\n",
        "\n"
      ]
    },
    {
      "cell_type": "code",
      "execution_count": null,
      "id": "7a9101d3",
      "metadata": {
        "id": "7a9101d3"
      },
      "outputs": [],
      "source": [
        "def settling_vel(diam,rho):\n",
        "\n",
        "    import numpy as np\n",
        "    global rhos, g, Cd\n",
        "\n",
        "    v_s = np.sqrt( rhos*g*diam / (Cd*rho) )\n",
        "\n",
        "    return v_s"
      ]
    },
    {
      "cell_type": "markdown",
      "id": "a6244f61",
      "metadata": {
        "id": "a6244f61"
      },
      "source": [
        "The rate of sedimentation of particles is predicted by the Hazen's law, which states that the volumetric rate loss of particles per unit of surface $S_V$ is given by the settling velocity multiplied by the volumetric fraction of particles $\\alpha_s$:\n",
        "\n",
        "$$\n",
        "S_V = \\alpha_s v_s\n",
        "$$\n",
        "\n",
        "Thus, the mass sedimentation rate is obtained by multiplying the volumetric rate by the density of the particles:\n",
        "\n",
        "$$\n",
        "S = \\rho_s S_v = \\rho_s \\alpha_s v_s\n",
        "$$\n",
        "\n",
        "We observe now that $rho_s\\alpha_s$ is the mass of solid per unit of volume of the mixture, which can be written, in terms of the mass fraction $x_s$, as $x_s \\rho$. In this way, we can write the loss term as\n",
        "\n",
        "$$\n",
        "S = x_s \\rho v_s\n",
        "$$\n",
        "\n",
        "The terms associated to particle sedimentation in each equations are:\n",
        "\n",
        "$$\n",
        "\\tilde{S}=\\left(\n",
        "\\begin{array}{c}\n",
        "-S\\\\\n",
        "-Su\\\\\n",
        "-S C_{v,s} T\\\\\n",
        "-S\n",
        "\\end{array}\n",
        "\\right)\n",
        "$$"
      ]
    },
    {
      "cell_type": "code",
      "execution_count": null,
      "id": "ba451e28",
      "metadata": {
        "id": "ba451e28"
      },
      "outputs": [],
      "source": [
        "def eval_loss_term(diam,q):\n",
        "\n",
        "    import numpy as np\n",
        "\n",
        "    global Cv_s,rhos\n",
        "\n",
        "    qp,rho,Cv,g_prime = eval_phys(q)\n",
        "\n",
        "    u = qp[1]\n",
        "    T = qp[2]\n",
        "    xs = qp[3]\n",
        "\n",
        "    vs = settling_vel(diam,rho)\n",
        "\n",
        "    S = xs*rho*vs\n",
        "\n",
        "    n_vars = q.shape[0]\n",
        "\n",
        "    loss_term = np.zeros_like(q)\n",
        "\n",
        "    if ( q[3] > 0.0 ):\n",
        "\n",
        "        loss_term[0] = - S\n",
        "        loss_term[1] = - S*u\n",
        "        loss_term[2] = - S*Cv_s*T\n",
        "        loss_term[3] = - S\n",
        "\n",
        "    return loss_term\n",
        ""
      ]
    },
    {
      "cell_type": "markdown",
      "id": "7453be0e",
      "metadata": {
        "id": "7453be0e"
      },
      "source": [
        "The entrainment term is defined as:\n",
        "\n",
        "$$\n",
        "E = \\epsilon \\rho_{atm} u\n",
        "$$\n",
        "\n",
        "where $\\epsilon$ is the entrainment coefficient, defined as a function of the Richardson number $Ri$:\n",
        "\n",
        "$$\n",
        "Ri = \\frac{(\\rho-\\rho_{atm})gh}{\\rho u^2} = \\frac{g' h}{u^2}\n",
        "$$\n",
        "\n",
        "The relationship between the Richardson number and the entrainment coefficient is defined by the empirical relation proposed by Parker et al. (1987):\n",
        "\n",
        "$$\n",
        "\\epsilon = \\frac{0.075}{(1+718 Ri^{2.4})^{0.5}}\n",
        "$$\n",
        "\n",
        "The terms associated to air entrainment in each equations are:\n",
        "\n",
        "$$\n",
        "\\tilde{E}=\\left(\n",
        "\\begin{array}{c}\n",
        "E\\\\\n",
        "0\\\\\n",
        "E C_{v,atm} T_{atm}\\\\\n",
        "0\n",
        "\\end{array}\n",
        "\\right)\n",
        "$$\n",
        "\n",
        "** N.B. ** When implementing the terms above in a numerical code, we have always to take care of all the cases which could result in NaN. For example, in the definition of the Richardson number, there is the velocity at the denominator. For this reason, we have to take care of the case $u=0$ m/s. In this case there is no entrainment, so we can set the entrainment coefficent to zero, without computing the Richardson number.\n"
      ]
    },
    {
      "cell_type": "code",
      "execution_count": null,
      "id": "a6147875",
      "metadata": {
        "id": "a6147875"
      },
      "outputs": [],
      "source": [
        "def eval_entrainment_term(q):\n",
        "\n",
        "    import numpy as np\n",
        "\n",
        "    global Cv_a,T_atm\n",
        "\n",
        "    qp,rho,Cv,g_prime = eval_phys(q)\n",
        "\n",
        "    h = qp[0]\n",
        "    u = qp[1]\n",
        "    T = qp[2]\n",
        "    xs = qp[3]\n",
        "\n",
        "    if ( u > 0):\n",
        "\n",
        "        Ri = g_prime * h / u**2\n",
        "\n",
        "        epsilon = 0.075 / np.sqrt( 1.0 + 718.0*Ri**2.4)\n",
        "\n",
        "    else:\n",
        "\n",
        "        epsilon = 0.0\n",
        "\n",
        "    n_vars = q.shape[0]\n",
        "\n",
        "    E = epsilon*rho_atm*u\n",
        "\n",
        "    entr_term = np.zeros_like(q)\n",
        "\n",
        "    entr_term[0] = E\n",
        "    entr_term[1] = 0.0\n",
        "    entr_term[2] = E*Cv_g*T_atm\n",
        "    entr_term[3] = 0.0\n",
        "\n",
        "    return entr_term\n",
        ""
      ]
    },
    {
      "cell_type": "markdown",
      "id": "b53dcf4d",
      "metadata": {
        "id": "b53dcf4d"
      },
      "source": [
        "The friction term in the momentum equation is defined as:\n",
        "\n",
        "$$\n",
        "F = -f\\rho u^2\n",
        "$$\n",
        "\n",
        "where $f$ is a coefficient depending on the roughness of the terrain, and typically we expect it to have a value in the range 0.001-0.02 (Schlicting 1969; Sparks et al. 1978). The quadratic dependence of the friction term on the average flow velocity is the dependence for turbulent flows. For laminar viscous flows we have a linear dependence.\n",
        "\n",
        "The terms associated to friction in each equations are:\n",
        "\n",
        "$$\n",
        "\\tilde{F}=\\left(\n",
        "\\begin{array}{c}\n",
        "0\\\\\n",
        "F\\\\\n",
        "0\\\\\n",
        "0\n",
        "\\end{array}\n",
        "\\right)\n",
        "$$\n"
      ]
    },
    {
      "cell_type": "code",
      "execution_count": null,
      "id": "b4853c9a",
      "metadata": {
        "id": "b4853c9a"
      },
      "outputs": [],
      "source": [
        "def eval_friction_term(q):\n",
        "\n",
        "    import numpy as np\n",
        "\n",
        "    global friction_coeff\n",
        "\n",
        "    qp,rho,Cv,g_prime = eval_phys(q)\n",
        "\n",
        "    h = qp[0]\n",
        "    u = qp[1]\n",
        "    T = qp[2]\n",
        "    xs = qp[3]\n",
        "\n",
        "    F = -friction_coeff*u**2*rho\n",
        "\n",
        "    n_vars = q.shape[0]\n",
        "\n",
        "    frict_term = np.zeros_like(q)\n",
        "\n",
        "    frict_term[0] = 0.0\n",
        "    frict_term[1] = F\n",
        "    frict_term[2] = 0.0\n",
        "    frict_term[3] = 0.0\n",
        "\n",
        "    return frict_term\n",
        ""
      ]
    },
    {
      "cell_type": "markdown",
      "id": "8cb70fcd",
      "metadata": {
        "id": "8cb70fcd"
      },
      "source": [
        "The fluxes are computed at the interfaces of the cells, and with the upwind scheme we have to look at the flow variables at the two sides of each interface.\n",
        "\n",
        "For this reason, we introduced in the previous notebook the two variables\n",
        "\n",
        "    q_intL\n",
        "    q_intR\n",
        "\n",
        "representing the value of $q$ at the two sides of each interface.\n",
        "\n",
        "The accuracy of the method can be increased by trying to have a better approximation of the values of $q$ at the interfaces.\n",
        "\n",
        "Instead of using a constant approximation of $q$ in each cell $C_i$, we ca use a linear approximation.\n",
        "\n",
        "![linear](linear_reconstruction.png)\n",
        "\n",
        "It is important to remark that a linear reconstruction in general produces two different values at the two sides of the interface.\n",
        "\n",
        "<img src=\"interfaces_values_2.png\" alt=\"linear2\" width=\"600\"/>\n",
        "\n",
        "With a linear approximation, if we set the slope in each cell equal to zero, we can also obtain the same approximation at the interfaces that we used in the previous notebook (value at interface corresponding to the average value).\n",
        "\n",
        "<img src=\"interfaces_values_1.png\" alt=\"linear1\" width=\"600\"/>\n",
        "\n",
        "The slope of the linear reconstruction is computed in order to avoid the generation of new local maxima and minima.\n",
        "This is done by adopting the so-called \"geometric\" limiters.\n",
        "\n",
        "\n",
        "\n"
      ]
    },
    {
      "cell_type": "markdown",
      "id": "8f7c7bdd",
      "metadata": {
        "id": "8f7c7bdd"
      },
      "source": [
        "One choice of limiter that gives second-order accuracy for smooth solutions is the **minmod slope**, defined by\n",
        "\n",
        "$$\n",
        "\\sigma_i^n = minmod\\left( \\frac{Q_i^n - Q_{i-1}^n}{\\Delta x} , \\frac{Q_{i+1}^n - Q_{i}^n}{\\Delta x} \\right)\n",
        "$$\n",
        "where the minmod function of two arguments is\n",
        "$$\n",
        "minmod(a,b) = \\left\\{\n",
        "\\begin{array}{ll}\n",
        "a & if\\ |a|<|b|\\ and\\ ab>0\\\\\n",
        "b & if\\ |b|<|a|\\ and\\ ab>0 \\\\\n",
        "0 & if\\ ab\\leq 0\n",
        "\\end{array}\n",
        "\\right.\n",
        "$$\n",
        "    \n",
        "![minmod](minmod.png)\n",
        "\n",
        "    \n",
        "    "
      ]
    },
    {
      "cell_type": "markdown",
      "id": "37fa24fe",
      "metadata": {
        "id": "37fa24fe"
      },
      "source": [
        "**N.B.** It is important to remark that the function we define for the numerical solution of a system of equations should work for both a single variable and an array of variables.\n",
        "\n",
        "This means that, when $a$ and $b$ are two arrays, we cannot use, for examples, the following syntax:\n",
        "\n",
        "    if ( np.abs(a) < np.abs(b) ):\n",
        "    \n",
        "This is because\n",
        "\n",
        "    ( np.abs(a) < np.abs(b) )\n",
        "    \n",
        "is an array with 0 and 1 according with the condition checked for each element.    "
      ]
    },
    {
      "cell_type": "code",
      "execution_count": null,
      "id": "8fa0db2b",
      "metadata": {
        "id": "8fa0db2b"
      },
      "outputs": [],
      "source": [
        " def minmod(a,b):\n",
        "\n",
        "    minmod = (a*b >0 ) * ( ( np.abs(a) > np.abs(b) ) * b + ( np.abs(a) <= np.abs(b) ) * a ) + ( a*b <= 0) * 0.0\n",
        "\n",
        "    return minmod"
      ]
    },
    {
      "cell_type": "markdown",
      "id": "49e7e6f5",
      "metadata": {
        "id": "49e7e6f5"
      },
      "source": [
        "Another choice of limiter, still giving second order accuracy for smooth solutions, is the so-called **superbee limiter** introduced by Roe:\n",
        "$$\n",
        "\\sigma_i^n = maxmod(\\sigma_i^{(1)}, \\sigma_i^{(2)})\n",
        "$$\n",
        "where\n",
        "$$\n",
        "\\sigma_i^{(1)} = minmod\\left( \\frac{Q_{i+1}^n - Q_{i}^n}{\\Delta x}, 2\\frac{Q_{i}^n - Q_{i-1}^n}{\\Delta x} \\right)\n",
        "$$\n",
        "\n",
        "$$\n",
        "\\sigma_i^{(2)} = minmod\\left( 2\\frac{Q_{i+1}^n - Q_{i}^n}{\\Delta x}, \\frac{Q_{i}^n - Q_{i-1}^n}{\\Delta x} \\right)\n",
        "$$\n",
        "\n",
        "Each one-sided slope is compared with twice the opposite one-sided slope. Then the maxmod function selects the argument with lareger modulus."
      ]
    },
    {
      "cell_type": "code",
      "execution_count": null,
      "id": "afc1ffdf",
      "metadata": {
        "id": "afc1ffdf"
      },
      "outputs": [],
      "source": [
        "def maxmod(a,b):\n",
        "\n",
        "    maxmod = ( np.abs(a) > np.abs(b) ) * a + ( np.abs(a) <= np.abs(b) ) * b\n",
        "\n",
        "    return maxmod\n",
        "\n",
        "def superbee(a,b):\n",
        "\n",
        "    sigma1 = minmod( a , 2.0*b )\n",
        "    sigma2 = minmod( 2.0*a , b )\n",
        "    slope_lim = maxmod( sigma1 , sigma2 )\n",
        "\n",
        "    return slope_lim\n"
      ]
    },
    {
      "cell_type": "markdown",
      "id": "ed466615",
      "metadata": {
        "id": "ed466615"
      },
      "source": [
        "In this figure we can see the linear reconstruction obtained with different limiters.\n",
        "\n",
        "![limiters](limiters.png)"
      ]
    },
    {
      "cell_type": "markdown",
      "id": "8ff37e71",
      "metadata": {
        "id": "8ff37e71"
      },
      "source": [
        "If we denote with $\\sigma_i$ the slope in the cell $C_i$, we define the values at the two interfaces of the cell in the following way:\n",
        "\n",
        "$$\n",
        "Q_{i-1/2}^R = Q_i - \\frac{dx}{2}\\sigma_i\n",
        "$$\n",
        "\n",
        "$$\n",
        "Q_{i+1/2}^L = Q_i + \\frac{dx}{2}\\sigma_i\n",
        "$$\n",
        "\n",
        "and, with the indexing used in the solver, we have\n",
        "\n",
        "$$\n",
        "q\\_intR[i] = q[i] - \\frac{dx}{2}\\sigma_i\n",
        "$$\n",
        "\n",
        "$$\n",
        "q\\_intL[i+1] = q[i] + \\frac{dx}{2}\\sigma_i\n",
        "$$\n",
        "\n",
        "This is implemented in the next function.\n",
        "\n",
        "**N.B.** In this notebook we will not use periodic boundary condition, but we want to implement an \"outlet\" boundary condition. The fluid, when reaching the boundaries of the domain, will exit from the domain.\n",
        "\n",
        "This is done by fixing a zero gradient condition at the boundaries for both the thickness and the velocity.\n"
      ]
    },
    {
      "cell_type": "code",
      "execution_count": null,
      "id": "49fa4756",
      "metadata": {
        "id": "49fa4756"
      },
      "outputs": [],
      "source": [
        "def recontruct_interfaces(q_old,dx,limiter):\n",
        "\n",
        "    import numpy as np\n",
        "    global hL,uL,TL,xsL\n",
        "\n",
        "    n_vars = q_old.shape[0]\n",
        "    n_cells = q_old.shape[1]\n",
        "    n_interfaces = n_cells+1\n",
        "\n",
        "\n",
        "    # fixed value condition at the left boundary\n",
        "    h_bdryL = hL\n",
        "    u_bdryL = uL\n",
        "    T_bdryL = TL\n",
        "    xs_bdryL = xsL\n",
        "\n",
        "    qp_bdryL = [h_bdryL,u_bdryL,T_bdryL,xs_bdryL]\n",
        "    q_bdryL = eval_cons(qp_bdryL)\n",
        "\n",
        "\n",
        "    # zero gradient condition at the right boundary\n",
        "    q_bdryR = np.zeros(n_vars)\n",
        "    q_bdryR[0] = q_old[0,-1]\n",
        "    q_bdryR[1] = q_old[1,-1]\n",
        "    q_bdryR[2] = q_old[2,-1]\n",
        "    q_bdryR[3] = q_old[3,-1]\n",
        "\n",
        "\n",
        "    # cell value at the left of the actual cell\n",
        "    qL = np.zeros_like(q_old)\n",
        "    # cell value at the actual cell\n",
        "    qC = np.zeros_like(q_old)\n",
        "    # cell value at the right of the actual cell\n",
        "    qR = np.zeros_like(q_old)\n",
        "\n",
        "    # qL,qC and qR are used to compute the different slopes used by the limiters\n",
        "\n",
        "    qL[:,0] = q_bdryL\n",
        "    qL[:,1:] = q_old[:,0:-1]\n",
        "\n",
        "    qC[:] = q_old[:]\n",
        "\n",
        "    qR[:,0:-1] = q_old[:,1:]\n",
        "    qR[:,-1] = q_bdryR\n",
        "\n",
        "    # backward slope\n",
        "    slopeL = ( qC - qL ) / dx\n",
        "    # centered slope\n",
        "    slopeC = ( qR - qL ) / ( 2.0 * dx )\n",
        "    # forward slope\n",
        "    slopeR = ( qR - qC ) / dx\n",
        "\n",
        "    # array of limited slopes (same size of q, defined on the cells)\n",
        "    slope_lim = np.zeros_like(q_old)\n",
        "\n",
        "    if ( limiter == 'none' ):\n",
        "\n",
        "        slope_lim[:,:] = 0.0\n",
        "\n",
        "    elif ( limiter == 'minmod' ):\n",
        "\n",
        "        slope_lim[:,:] = minmod(slopeL,slopeR)\n",
        "\n",
        "    elif ( limiter == 'superbee'):\n",
        "\n",
        "        slope_lim[:,:] = superbee(slopeL,slopeR)\n",
        "\n",
        "    elif ( limiter == 'vanLeer' ):\n",
        "\n",
        "        theta = 1.0\n",
        "        slope_lim[:,:] = minmod(minmod(slopeC,theta*slopeL),theta*slopeR)\n",
        "\n",
        "\n",
        "    # the reconstructed variables are defined at the two sides of each interface\n",
        "    q_intL = np.zeros((n_vars,n_interfaces))\n",
        "    q_intR = np.zeros((n_vars,n_interfaces))\n",
        "\n",
        "\n",
        "    q_intL[:,0] = q_bdryL\n",
        "    q_intR[:,0] = q_bdryL\n",
        "\n",
        "\n",
        "    # reconstructed variable at the sides of internal interfaces\n",
        "    q_intL[:,1:] = qC[:,0:] + 0.5*dx*slope_lim[:,0:]\n",
        "    q_intR[:,0:-1] = qC[:,0:] - 0.5*dx*slope_lim[:,0:]\n",
        "\n",
        "    q_intL[:,-1] = q_bdryR\n",
        "    q_intR[:,-1] = q_bdryR\n",
        "\n",
        "\n",
        "    return q_intL,q_intR\n"
      ]
    },
    {
      "cell_type": "markdown",
      "id": "010840c6",
      "metadata": {
        "id": "010840c6"
      },
      "source": [
        "With the function defined above computing the values of $q$ at the two sides of each interface, we implement a new scheme for the numerical flux at the interface, the Kurganov-Tadmor scheme:\n",
        "\n",
        "$$\n",
        "F_{i-\\frac{1}{2}}^n = \\frac{1}{2} \\left[ f(Q_{i-\\frac{1}{2}}^L) + f(Q_{i-\\frac{1}{2}}^R)  \\right] - a_{i-\\frac{1}{2}}^{max} ( Q_{i-\\frac{1}{2}}^R - Q_{i-\\frac{1}{2}}^L)\n",
        "$$\n",
        "\n",
        "where $a_{i-\\frac{1}{2}}^{max}$ is the absolute value of the maximum advection speed between those at the left and the right of the interface.\n",
        "\n",
        "For the advection with constant velocity $u$, we have:\n",
        "\n",
        "$$\n",
        "a_{i-\\frac{1}{2}}^{max}=|u|\n",
        "$$\n",
        "\n",
        "In general, when the velocity varies, or for nonlinear problems, the velocity at the two sides could be different.\n",
        "\n",
        "In order to use the correct value of the velocity, we introduce a new function.\n",
        "\n",
        "**N.B.** *In this case, because it is a nonlinear equation, we compute the Jacobian of the flux and the eigenvalues of the Jacobian matrix. Then we take the absolute value of the largest (in magnitude) eigenvalue.*\n"
      ]
    },
    {
      "cell_type": "code",
      "execution_count": null,
      "id": "a9edcd48",
      "metadata": {
        "id": "a9edcd48"
      },
      "outputs": [],
      "source": [
        "def eval_speed(q):\n",
        "\n",
        "    import numpy as np\n",
        "\n",
        "    A = eval_jacobian(q)\n",
        "\n",
        "    # array of eigenvalues of A\n",
        "    Lambda = np.linalg.eigvals(A)\n",
        "\n",
        "    # maximum characteristic speed\n",
        "    speed = np.amax(np.abs(Lambda))\n",
        "\n",
        "    return speed\n"
      ]
    },
    {
      "cell_type": "markdown",
      "id": "3275da28",
      "metadata": {
        "id": "3275da28"
      },
      "source": [
        "The maximum characteristic speed is used both when computing the numerical fluxes with the Kurganov-Tadmor scheme and also to compute the time step.\n",
        "\n",
        "In fact, the time step here is controlled by the Courant number:\n",
        "\n",
        "$$\n",
        "Co = \\frac{u \\Delta t}{\\Delta x}\n",
        "$$\n",
        "\n",
        "where $u$ is the largest eigenvalue."
      ]
    },
    {
      "cell_type": "code",
      "execution_count": null,
      "id": "1c685f35",
      "metadata": {
        "id": "1c685f35"
      },
      "outputs": [],
      "source": [
        "def eval_dt(q,Courant_No,dx):\n",
        "\n",
        "    import numpy as np\n",
        "\n",
        "    # maximum characteristic speed\n",
        "    speed = np.zeros(n_cells)\n",
        "\n",
        "    for idx in range(n_cells):\n",
        "\n",
        "        A = eval_jacobian(q[:,idx])\n",
        "        Lambda = np.linalg.eigvals(A)\n",
        "\n",
        "        # maximum characteristic speed\n",
        "        speed[idx] = np.amax(np.abs(Lambda))\n",
        "\n",
        "    u = np.amax(speed)\n",
        "\n",
        "    dt = Courant_No * dx / u\n",
        "\n",
        "    return dt"
      ]
    },
    {
      "cell_type": "markdown",
      "id": "f72c2937",
      "metadata": {
        "id": "f72c2937"
      },
      "source": [
        "With this new function, we have everything we need to compute the numerical fluxes at the interfaces with the Kurganov-Tadmor scheme."
      ]
    },
    {
      "cell_type": "code",
      "execution_count": null,
      "id": "3ee38312",
      "metadata": {
        "id": "3ee38312"
      },
      "outputs": [],
      "source": [
        "def num_flux_KT(q_old):\n",
        "\n",
        "    import numpy as np\n",
        "\n",
        "    global u\n",
        "\n",
        "    q_intL,q_intR = recontruct_interfaces(q_old,dx,'none');\n",
        "\n",
        "    # compute the fluxes for the first cell and the cells on the left and right of the first\n",
        "    n_vars = q_old.shape[0]\n",
        "    n_cells = q_old.shape[1]\n",
        "    n_interfaces = n_cells+1\n",
        "    num_flux_int = np.zeros((n_vars,n_interfaces))\n",
        "\n",
        "    # compute the numerical fluxes at the interfaces of the internal cells\n",
        "    for i in range(0,n_interfaces):\n",
        "\n",
        "        flux_intL = eval_flux(q_intL[:,i])\n",
        "        flux_intR = eval_flux(q_intR[:,i])\n",
        "\n",
        "        aL = eval_speed(q_intL[:,i])\n",
        "        aR = eval_speed(q_intR[:,i])\n",
        "        aMax = np.maximum(aL,aR)\n",
        "\n",
        "        num_flux_int[:,i] = 0.5*(flux_intL[:]+flux_intR[:]) - 0.5 * aMax * ( q_intR[:,i] - q_intL[:,i] )\n",
        "\n",
        "    return num_flux_int\n"
      ]
    },
    {
      "cell_type": "markdown",
      "id": "c6f081d8",
      "metadata": {
        "id": "c6f081d8"
      },
      "source": [
        "With the notation introduced above for the numerical fluxes at the interfaces, we can write the finite volume method in the following way:\n",
        "\n",
        "$$\n",
        "Q_i^{n+1}=Q_i^{n}-\\frac{\\Delta t}{\\Delta x}\\left(  F_{i+\\frac{1}{2}}^n - F_{i-\\frac{1}{2}}^n \\right)\n",
        "$$\n",
        "\n",
        "where:\n",
        "- $F_{i-\\frac{1}{2}}=num\\_flux\\_int[i]$  \n",
        "- $F_{i+\\frac{1}{2}}=num\\_flux\\_int[i+1]$\n"
      ]
    },
    {
      "cell_type": "code",
      "execution_count": null,
      "id": "3c0ecb31",
      "metadata": {
        "id": "3c0ecb31"
      },
      "outputs": [],
      "source": [
        "def advance_finite_volume(q_old,dx,dt,flux_func):\n",
        "\n",
        "    import numpy as np\n",
        "\n",
        "    q_new = np.zeros_like(q_old)\n",
        "\n",
        "    # numerical fluxes at the interfaces\n",
        "    num_flux_int = flux_func(q_old)\n",
        "    n_cells = q_old.shape[1]\n",
        "\n",
        "    slope_term = np.zeros(n_vars)\n",
        "\n",
        "    for i in range(0,n_cells):\n",
        "\n",
        "        slope_term[:] = eval_slope_term(q_old[:,i])\n",
        "\n",
        "        q_new[:,i] = q_old[:,i] - dt / dx * ( num_flux_int[:,i+1] - num_flux_int[:,i] ) \\\n",
        "                     + dt * slope_term[:]\n",
        "\n",
        "    return q_new\n"
      ]
    },
    {
      "cell_type": "markdown",
      "id": "7476c20e",
      "metadata": {
        "id": "7476c20e"
      },
      "source": [
        "We update first the solution by integrating the flux terms with the function above, and obtaining an intermediate solution $\\tilde{Q}^{n+1}$, and then we add the contribution of the source terms.\n",
        "\n",
        "$$\n",
        "Q_i^{n+1}=\\tilde{Q}_i^{n+1}+\\Delta t\\cdot S_i(\\tilde{Q}_i^{n+1})\n",
        "$$\n",
        "\n",
        "We introduce a second function which updates the solution by integrating the source terms.\n",
        "\n",
        "When integrating the source term, we have to consider that we have a loss term, and we need to check that the solid mass loss in a time step $\\Delta t$ cannot be larger than the solid mass we have in the computational cell.\n"
      ]
    },
    {
      "cell_type": "code",
      "execution_count": null,
      "id": "e7a6f607",
      "metadata": {
        "id": "e7a6f607"
      },
      "outputs": [],
      "source": [
        "def advance_source_term(q_old,dx):\n",
        "\n",
        "    import numpy as np\n",
        "\n",
        "    global rho_atm , entrainment_flag, sedimentation_flag\n",
        "\n",
        "    q_new = np.zeros_like(q_old)\n",
        "\n",
        "    n_cells = q_old.shape[1]\n",
        "    n_vars = q_old.shape[0]\n",
        "\n",
        "    loss_term = np.zeros(n_vars)\n",
        "    entr_term = np.zeros(n_vars)\n",
        "    frict_term = np.zeros(n_vars)\n",
        "\n",
        "    for i in range(0,n_cells):\n",
        "\n",
        "        if sedimentation_flag:\n",
        "\n",
        "            loss_term[:] = eval_loss_term(diam,q_old[:,i])\n",
        "\n",
        "        if entrainment_flag:\n",
        "\n",
        "            entr_term[:] = eval_entrainment_term(q_old[:,i])\n",
        "\n",
        "        frict_term[:] = eval_friction_term(q_old[:,i])\n",
        "\n",
        "        # If the loss term is positive, we limit it to not remove more\n",
        "        # than the mass available\n",
        "        if (np.abs(loss_term[3]) > 0.0):\n",
        "\n",
        "            loss_term_coeff = np.minimum( 1.0, q_old[3,i]/(np.abs(loss_term[3])*dt) )\n",
        "\n",
        "        else:\n",
        "\n",
        "            loss_term_coeff = 1.0\n",
        "\n",
        "        q_new[:,i] = q_old[:,i] + dt * ( loss_term_coeff * loss_term[:] + entr_term[:] \\\n",
        "                                        + frict_term[:] )\n",
        "\n",
        "        if ( q_new[1,i] < 0.0):\n",
        "\n",
        "            q_new[1,i] = 0.0\n",
        "\n",
        "        qp,rho,Cv,g_prime = eval_phys(q_new[:,i])\n",
        "\n",
        "        if ( rho < rho_atm ):\n",
        "\n",
        "            q_new[:,i] = 0.0\n",
        "\n",
        "    return q_new\n"
      ]
    },
    {
      "cell_type": "markdown",
      "id": "f5841878",
      "metadata": {
        "id": "f5841878"
      },
      "source": [
        "We have defined all the function needed to define our system of equations and the numerical scheme.\n",
        "\n",
        "We can write the main script, first of all importing the libraries and packages we need."
      ]
    },
    {
      "cell_type": "code",
      "execution_count": null,
      "id": "27a8136c",
      "metadata": {
        "id": "27a8136c"
      },
      "outputs": [],
      "source": [
        "# Enable interactive plot\n",
        "%matplotlib notebook\n",
        "\n",
        "import numpy as np\n",
        "import matplotlib.pyplot as plt\n",
        "import matplotlib.animation as animation\n",
        "import time"
      ]
    },
    {
      "cell_type": "markdown",
      "id": "63690178",
      "metadata": {
        "id": "63690178"
      },
      "source": [
        "We define now the global variables for the model parameters."
      ]
    },
    {
      "cell_type": "code",
      "execution_count": null,
      "id": "ebf3944b",
      "metadata": {
        "id": "ebf3944b"
      },
      "outputs": [],
      "source": [
        "global g\n",
        "g = 9.81\n",
        "\n",
        "global T_atm\n",
        "T_atm = 300.0  # temperature (units: Kelvin)\n",
        "\n",
        "global P\n",
        "P_atm = 101300.0   # pressure (units: Pa)\n",
        "\n",
        "global Cv_s\n",
        "Cv_s = 1617.0  # specific heat of solid phase (units: J K-1 kg-1)\n",
        "\n",
        "global Cv_g\n",
        "Cv_g = 1617.0 # specific heat of gas phase (units: J K-1 kg-1)\n",
        "\n",
        "global Rg\n",
        "Rg = 287.051  # specific gas constant (units: J K-1 kg-1)\n",
        "\n",
        "global rhos\n",
        "rhos = 2000.0\n",
        "\n",
        "global Cd\n",
        "Cd = 1.0\n",
        "\n",
        "global diam\n",
        "diam = 1.e-2\n",
        "\n",
        "global firction_coeff\n",
        "friction_coeff = 0.0\n",
        "\n",
        "global slope # slope of topography in degrees\n",
        "slope = 0.0\n",
        "\n",
        "global rho_atm\n",
        "rho_atm = P_atm / ( Rg * T_atm )\n",
        "\n",
        "global entrainment_flag\n",
        "entrainment_flag = False\n",
        "\n",
        "global sedimentation_flag\n",
        "sedimentation_flag = False"
      ]
    },
    {
      "cell_type": "markdown",
      "id": "e1728571",
      "metadata": {
        "id": "e1728571"
      },
      "source": [
        "We partition the domain $[0;20000]$ in $200$ cells.\n",
        "\n",
        "We use the numpy function *linspace* to compute the interfaces of the cells.\n",
        "\n",
        "Then, we compute the location of the center of the cells, $x_i$, as the middle point of each cell.\n"
      ]
    },
    {
      "cell_type": "code",
      "execution_count": null,
      "id": "0c90ca47",
      "metadata": {
        "id": "0c90ca47"
      },
      "outputs": [],
      "source": [
        "# Define the boundaries x_left and x_right of the spatial domain\n",
        "x_left = 0.0\n",
        "x_right = 20000.0\n",
        "\n",
        "# define the number of cells\n",
        "n_cells = 200\n",
        "\n",
        "# Compute the step for the spatial discretization\n",
        "global dx\n",
        "dx = ( x_right - x_left ) / n_cells\n",
        "\n",
        "# Define an array x of the interfaces of the cells\n",
        "x_int = np.linspace(x_left,x_right,n_cells+1)\n",
        "\n",
        "# Centers of the cells\n",
        "x = 0.5 * ( x_int[0:-1] + x_int[1:] )\n"
      ]
    },
    {
      "cell_type": "markdown",
      "id": "9aac2a55",
      "metadata": {
        "id": "9aac2a55"
      },
      "source": [
        "Now we define the initial and final time."
      ]
    },
    {
      "cell_type": "code",
      "execution_count": null,
      "id": "d1f7dfef",
      "metadata": {
        "id": "d1f7dfef"
      },
      "outputs": [],
      "source": [
        "# Define the initial and final time t_init and t_final\n",
        "t_init = 0.0\n",
        "t_final = 1000.0"
      ]
    },
    {
      "cell_type": "markdown",
      "id": "41e96601",
      "metadata": {
        "id": "41e96601"
      },
      "source": [
        "We define now the initial condition that we want to test with our finite volume solver. The solution domain is $[0;1]$, and the initial condition is an empty condition with $h=0$ and $u=0$.\n",
        "$$\n",
        "q_{p,0}(0,x) = h(0,x) = 0\n",
        "$$\n",
        "\n",
        "$$\n",
        "q_{p,1}(0,x) = u(0,x) = 0\n",
        "$$\n",
        "\n",
        "We then set the initial temperature inside the empy domain equal to ambient temperature $T_{atm}$, and the solid mass fraction to zero.\n",
        "\n",
        "$$\n",
        "q_{p,2}(0,x) = T(0,x) = T_{atm}\n",
        "$$\n",
        "\n",
        "$$\n",
        "q_{p,3}(0,x) = x_s(0,x) = 0\n",
        "$$"
      ]
    },
    {
      "cell_type": "code",
      "execution_count": null,
      "id": "f5c0e42a",
      "metadata": {
        "id": "f5c0e42a"
      },
      "outputs": [],
      "source": [
        "# initialize the solution\n",
        "n_vars = 4\n",
        "q = np.zeros((n_vars,n_cells))\n",
        "qp = np.zeros((n_vars,n_cells))\n",
        "\n",
        "# reduced gravity\n",
        "gp = np.zeros(n_cells)\n",
        "\n",
        "# reduced gravity\n",
        "rhom = np.zeros(n_cells)\n",
        "\n",
        "# zero thickness\n",
        "qp[0,:] = 0.0\n",
        "# zero velocity\n",
        "qp[1,:] = 0.0\n",
        "# atm temperature\n",
        "qp[2,:] = T_atm\n",
        "# zero solid fraction\n",
        "qp[3,:] = 0.0\n",
        "\n",
        "gp[:] = 0.0\n",
        "\n",
        "rhom[:] = rho_atm\n",
        "\n",
        "# we compute the conservative variables from the physical variables\n",
        "for i in range(n_cells):\n",
        "\n",
        "    q[:,i] = eval_cons(qp[:,i])"
      ]
    },
    {
      "cell_type": "markdown",
      "id": "531da136",
      "metadata": {
        "id": "531da136"
      },
      "source": [
        "We define now the physical values at the inlet, i.e. the values for the left boundary condition."
      ]
    },
    {
      "cell_type": "code",
      "execution_count": null,
      "id": "3d653adf",
      "metadata": {
        "id": "3d653adf"
      },
      "outputs": [],
      "source": [
        "global hL,uL,TL,xsL\n",
        "\n",
        "hL = 300.0\n",
        "uL = 80.0\n",
        "TL = 950.0\n",
        "xsL = 0.95\n",
        "\n",
        "qp_bdryL = [hL,uL,TL,xsL]"
      ]
    },
    {
      "cell_type": "markdown",
      "id": "b66bf7fc",
      "metadata": {
        "id": "b66bf7fc"
      },
      "source": [
        "We check if the inlet boundary condition result in subcritical or supercritical conditions, by looking at the eigenvalues of the Jacobian of the fluxes."
      ]
    },
    {
      "cell_type": "code",
      "execution_count": null,
      "id": "ad55acf4",
      "metadata": {
        "id": "ad55acf4"
      },
      "outputs": [],
      "source": [
        "q_bdryL = eval_cons(qp_bdryL)\n",
        "\n",
        "qp_temp,rhoL,CvL,g_primeL = eval_phys(q_bdryL)\n",
        "\n",
        "A = eval_jacobian(q_bdryL)\n",
        "Lambda = np.linalg.eigvals(A)\n",
        "print('Reduced gravity g_prime',g_primeL,' m/s2')\n",
        "print('Square root of (g_prime*h)',np.sqrt(g_primeL*hL),' m/s')\n",
        "print('Richardson number',g_primeL*hL/(uL**2))\n",
        "print('Lambda',Lambda)"
      ]
    },
    {
      "cell_type": "markdown",
      "id": "37b07bc5",
      "metadata": {
        "id": "37b07bc5"
      },
      "source": [
        "We plot the initial solution. We plot here the flow thickness $h$, the volumetric discharge rate $hu$, the mixture temperature $T$ and the mass fraction of solid $x_s$."
      ]
    },
    {
      "cell_type": "code",
      "execution_count": null,
      "id": "896781b6",
      "metadata": {
        "scrolled": false,
        "id": "896781b6"
      },
      "outputs": [],
      "source": [
        "# create a figure for the plot\n",
        "fig, axs = plt.subplots(3,2)\n",
        "\n",
        "axs[0,0].set_xlim([x_left,x_right])\n",
        "axs[0,1].set_xlim([x_left,x_right])\n",
        "axs[1,0].set_xlim([x_left,x_right])\n",
        "axs[1,1].set_xlim([x_left,x_right])\n",
        "axs[2,0].set_xlim([x_left,x_right])\n",
        "axs[2,1].set_xlim([x_left,x_right])\n",
        "\n",
        "axs[0,0].set_ylabel('h [m]')\n",
        "axs[0,1].set_ylabel('u [m/s]')\n",
        "axs[1,0].set_ylabel('T [K]')\n",
        "axs[1,1].set_ylabel('x_s')\n",
        "axs[2,0].set_ylabel('g_prime [m/s2]')\n",
        "axs[2,1].set_ylabel('rho_mix [kg/m3]')\n",
        "\n",
        "axs[0,0].set_ylim(-0.1, hL*3.0)\n",
        "axs[0,1].set_ylim(-0.1, uL*2.0)\n",
        "axs[1,0].set_ylim(T_atm-20, TL+20)\n",
        "axs[1,1].set_ylim(-0.1, 1.1)\n",
        "axs[2,0].set_ylim(-0.1, 10.1)\n",
        "axs[2,1].set_ylim(0.0, rhoL*1.1)\n",
        "\n",
        "# this command increase the space between subplots\n",
        "fig.tight_layout()\n",
        "\n",
        "# plot the initial solution and call \"line\" the plot\n",
        "line0, = axs[0,0].plot(x, qp[0,:],'-')\n",
        "time_text = axs[0,0].text(0.05*(x_right-x_left), 0.85*hL*3.0, 'time ='+\"{:10.4f}\".format(0.0)+'s')\n",
        "\n",
        "# plot the initial solution and call \"line\" the plot\n",
        "line1, = axs[0,1].plot(x, qp[1,:],'-')\n",
        "\n",
        "# plot the initial solution and call \"line\" the plot\n",
        "line2, = axs[1,0].plot(x, qp[2,:],'-')\n",
        "\n",
        "# plot the initial solution and call \"line\" the plot\n",
        "line3, = axs[1,1].plot(x, qp[3,:],'-')\n",
        "\n",
        "# plot the initial solution and call \"line\" the plot\n",
        "line4, = axs[2,0].plot(x, gp[:],'-')\n",
        "\n",
        "# plot the initial solution and call \"line\" the plot\n",
        "line5, = axs[2,1].plot(x, rhom[:],'-')\n",
        "\n",
        "line = [line0, line1, line2, line3, line4, line5]"
      ]
    },
    {
      "cell_type": "markdown",
      "id": "4678f3fe",
      "metadata": {
        "id": "4678f3fe"
      },
      "source": [
        "We want to plot an animation of the solution and we use the matplotlib function *animatation*. It requires to initialize the objects that we want to update at each iteration with a function that we will call *init*.\n",
        "\n",
        "In this case, we want to update the line plot and a text box with the current time of the solution."
      ]
    },
    {
      "cell_type": "code",
      "execution_count": null,
      "id": "29323ec7",
      "metadata": {
        "id": "29323ec7"
      },
      "outputs": [],
      "source": [
        "def init():\n",
        "    line[0].set_data(x, qp[0,:])\n",
        "    line[1].set_data(x, qp[1,:])\n",
        "    line[2].set_data(x, qp[2,:])\n",
        "    line[3].set_data(x, qp[3,:])\n",
        "    line[4].set_data(x, gp[:])\n",
        "    line[5].set_data(x, rhom[:])\n",
        "    time_text.set_text('time ='+\"{:10.4f}\".format(0.0)+'s')\n",
        "    return line, time_text"
      ]
    },
    {
      "cell_type": "markdown",
      "id": "69df920b",
      "metadata": {
        "id": "69df920b"
      },
      "source": [
        "The matplotlit function *animation* also need a function updating the solution. We define the *animate* function, which takes as input the index $n$ of the frame (time step) to plot.\n",
        "\n",
        "This function is iterated and for each time step it computes the new solution array $q$.\n",
        "\n",
        "With a nonlinear problem, the characteristic speeds change with the solution, and thus the time step given by the CFL condition. For this reason, we need to compute the time step inside the *animate* function.\n",
        "\n",
        "In addition, when we use a linear reconstruction, the characteristic speeds should be computed for the values reconstructed at the interfaces.\n",
        "\n",
        "Beacuse the time step change with the solution, we do not know in advance how many iteration we need to reach the final time. For this reason, we add a check inside the *animate* function, with a call to the function *event_source.stop()*:\n",
        "\n",
        "    if ( t > t_final):\n",
        "        ani_new.event_source.stop()\n",
        "    "
      ]
    },
    {
      "cell_type": "code",
      "execution_count": null,
      "id": "688b8782",
      "metadata": {
        "id": "688b8782"
      },
      "outputs": [],
      "source": [
        "def animate(n,flux_func):\n",
        "\n",
        "    global q,u,dx,dt,t,t_final\n",
        "    global any_new\n",
        "\n",
        "    if (n==1):\n",
        "\n",
        "        time.sleep(5)\n",
        "\n",
        "    q_old = q\n",
        "\n",
        "    # update the solution in the first point with the periodic boundary condition\n",
        "    q_intL,q_intR = recontruct_interfaces(q,dx,'minmod');\n",
        "\n",
        "    # maximum time step for the characteristic speeds from the\n",
        "    # variables reconstructed at the left of the interfaces\n",
        "    dtL = eval_dt(q_intL,Courant_No,dx)\n",
        "\n",
        "    # maximum time step for the characteristic speeds from the\n",
        "    # variables reconstructed at the right of the interfaces\n",
        "    dtR = eval_dt(q_intR,Courant_No,dx)\n",
        "\n",
        "    # we take the minimum between the two time steps\n",
        "    dt = np.minimum(dtL,dtR)\n",
        "\n",
        "    q_temp = advance_finite_volume(q_old,dx,dt,flux_func)\n",
        "    q = advance_source_term(q_temp,dt)\n",
        "\n",
        "    t = t+dt\n",
        "    # print('time ='+str(t)+'s ','dt ='+str(dt)+'s')\n",
        "    for i in range(n_cells):\n",
        "\n",
        "        qp[:,i],rhom[i],Cv,gp[i] = eval_phys(q[:,i])\n",
        "\n",
        "    # update the plotted data\n",
        "    line[0].set_data(x, qp[0,:])\n",
        "    line[1].set_data(x, qp[1,:])\n",
        "    line[2].set_data(x, qp[2,:])\n",
        "    line[3].set_data(x, qp[3,:])\n",
        "    line[4].set_data(x, gp[:])\n",
        "    line[5].set_data(x, rhom[:])\n",
        "\n",
        "    time_text.set_text('time ='+\"{:10.4f}\".format(t)+'s')\n",
        "    if ( t > t_final):\n",
        "        ani_new.event_source.stop()\n",
        "\n",
        "    return line, time_text"
      ]
    },
    {
      "cell_type": "markdown",
      "id": "18e02490",
      "metadata": {
        "id": "18e02490"
      },
      "source": [
        "We can see here that at the end of the list of arguments of the function *animation.FuncAnimation*, there is a list\n",
        "\n",
        "    fargs=(advance_expl_central,)\n",
        "    \n",
        "This list contains the additional arguments to pass to *animate_new*.\n",
        "\n",
        "In this way, we don't need to specify inside the function *animate_new* the scheme to use to update the numerical solution, but we can use *animate_new* for both the central and backward schemes.\n",
        "\n",
        "**N.B.** It is important to know if condition at the inlet is a subcritical or supercritical condition, i.e. if the two characteristic speeds have the same sign. For this reason, we compute and print the two eigenvalues of the Jacobian of the flux computed with the inlet conditions for $h$ and $u$.\n"
      ]
    },
    {
      "cell_type": "code",
      "execution_count": null,
      "id": "ddb816d2",
      "metadata": {
        "id": "ddb816d2"
      },
      "outputs": [],
      "source": [
        "# Define the time step dt\n",
        "global t,dt\n",
        "\n",
        "t = 0.0\n",
        "\n",
        "Courant_No = 0.49\n",
        "# Define the time step dt\n",
        "q_old = q\n",
        "\n",
        "time_steps = 10000\n",
        "\n",
        "global ani_new\n",
        "\n",
        "ani_new = animation.FuncAnimation(fig, animate, np.arange(1,time_steps+1), init_func=init,\n",
        "     interval=100,blit=False,fargs=(num_flux_KT,),repeat=False)\n",
        "plt.show()"
      ]
    },
    {
      "cell_type": "code",
      "execution_count": null,
      "id": "37bccf95",
      "metadata": {
        "id": "37bccf95"
      },
      "outputs": [],
      "source": []
    },
    {
      "cell_type": "code",
      "execution_count": null,
      "id": "b1ca53d9",
      "metadata": {
        "id": "b1ca53d9"
      },
      "outputs": [],
      "source": []
    }
  ],
  "metadata": {
    "kernelspec": {
      "display_name": "Python 3 (ipykernel)",
      "language": "python",
      "name": "python3"
    },
    "language_info": {
      "codemirror_mode": {
        "name": "ipython",
        "version": 3
      },
      "file_extension": ".py",
      "mimetype": "text/x-python",
      "name": "python",
      "nbconvert_exporter": "python",
      "pygments_lexer": "ipython3",
      "version": "3.9.13"
    },
    "colab": {
      "provenance": [],
      "include_colab_link": true
    }
  },
  "nbformat": 4,
  "nbformat_minor": 5
}